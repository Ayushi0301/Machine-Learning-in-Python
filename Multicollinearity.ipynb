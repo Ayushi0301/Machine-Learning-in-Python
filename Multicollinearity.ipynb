{
 "cells": [
  {
   "cell_type": "markdown",
   "metadata": {},
   "source": [
    "### Multicollinearity :  \n",
    "In regression, \"multicollinearity\" refers to predictors that are correlated with other predictors. In other words, Multicollinearity happens when independent variables in the regression model are highly correlated to each other. It makes it hard for interpretation of model and also creates overfitting problem"
   ]
  },
  {
   "cell_type": "code",
   "execution_count": 1,
   "metadata": {
    "scrolled": false
   },
   "outputs": [
    {
     "name": "stderr",
     "output_type": "stream",
     "text": [
      "C:\\Users\\hp\\Anaconda3\\lib\\site-packages\\statsmodels\\tools\\_testing.py:19: FutureWarning: pandas.util.testing is deprecated. Use the functions in the public API at pandas.testing instead.\n",
      "  import pandas.util.testing as tm\n",
      "C:\\Users\\hp\\Anaconda3\\lib\\site-packages\\statsmodels\\compat\\pandas.py:23: FutureWarning: The Panel class is removed from pandas. Accessing it from the top-level namespace will also be removed in the next version\n",
      "  data_klasses = (pandas.Series, pandas.DataFrame, pandas.Panel)\n"
     ]
    }
   ],
   "source": [
    "import pandas as pd\n",
    "import statsmodels.api as sm "
   ]
  },
  {
   "cell_type": "code",
   "execution_count": 2,
   "metadata": {},
   "outputs": [],
   "source": [
    "import numpy as np\n",
    "import matplotlib.pyplot as plt\n",
    "import seaborn as sns"
   ]
  },
  {
   "cell_type": "code",
   "execution_count": 3,
   "metadata": {},
   "outputs": [],
   "source": [
    "data = pd.read_csv('C:/Users/hp/Downloads/taiwan_housing_data.csv')"
   ]
  },
  {
   "cell_type": "code",
   "execution_count": 4,
   "metadata": {},
   "outputs": [],
   "source": [
    "X = data[['house_age','dist_MRT','num_stores','Xs','Ys','dist_fr_cen']] \n",
    "y = data.price"
   ]
  },
  {
   "cell_type": "code",
   "execution_count": 5,
   "metadata": {},
   "outputs": [],
   "source": [
    "X = sm.add_constant(X)"
   ]
  },
  {
   "cell_type": "code",
   "execution_count": 6,
   "metadata": {},
   "outputs": [
    {
     "data": {
      "text/html": [
       "<table class=\"simpletable\">\n",
       "<caption>OLS Regression Results</caption>\n",
       "<tr>\n",
       "  <th>Dep. Variable:</th>          <td>price</td>      <th>  R-squared:         </th> <td>   0.587</td>\n",
       "</tr>\n",
       "<tr>\n",
       "  <th>Model:</th>                   <td>OLS</td>       <th>  Adj. R-squared:    </th> <td>   0.581</td>\n",
       "</tr>\n",
       "<tr>\n",
       "  <th>Method:</th>             <td>Least Squares</td>  <th>  F-statistic:       </th> <td>   96.37</td>\n",
       "</tr>\n",
       "<tr>\n",
       "  <th>Date:</th>             <td>Mon, 11 Jan 2021</td> <th>  Prob (F-statistic):</th> <td>5.40e-75</td>\n",
       "</tr>\n",
       "<tr>\n",
       "  <th>Time:</th>                 <td>12:25:17</td>     <th>  Log-Likelihood:    </th> <td> -1484.7</td>\n",
       "</tr>\n",
       "<tr>\n",
       "  <th>No. Observations:</th>      <td>   414</td>      <th>  AIC:               </th> <td>   2983.</td>\n",
       "</tr>\n",
       "<tr>\n",
       "  <th>Df Residuals:</th>          <td>   407</td>      <th>  BIC:               </th> <td>   3012.</td>\n",
       "</tr>\n",
       "<tr>\n",
       "  <th>Df Model:</th>              <td>     6</td>      <th>                     </th>     <td> </td>   \n",
       "</tr>\n",
       "<tr>\n",
       "  <th>Covariance Type:</th>      <td>nonrobust</td>    <th>                     </th>     <td> </td>   \n",
       "</tr>\n",
       "</table>\n",
       "<table class=\"simpletable\">\n",
       "<tr>\n",
       "       <td></td>          <th>coef</th>     <th>std err</th>      <th>t</th>      <th>P>|t|</th>  <th>[0.025</th>    <th>0.975]</th>  \n",
       "</tr>\n",
       "<tr>\n",
       "  <th>const</th>       <td>   37.8992</td> <td>    1.889</td> <td>   20.063</td> <td> 0.000</td> <td>   34.186</td> <td>   41.613</td>\n",
       "</tr>\n",
       "<tr>\n",
       "  <th>house_age</th>   <td>   -0.2598</td> <td>    0.038</td> <td>   -6.767</td> <td> 0.000</td> <td>   -0.335</td> <td>   -0.184</td>\n",
       "</tr>\n",
       "<tr>\n",
       "  <th>dist_MRT</th>    <td>   -0.0093</td> <td>    0.001</td> <td>   -6.353</td> <td> 0.000</td> <td>   -0.012</td> <td>   -0.006</td>\n",
       "</tr>\n",
       "<tr>\n",
       "  <th>num_stores</th>  <td>    1.0474</td> <td>    0.189</td> <td>    5.535</td> <td> 0.000</td> <td>    0.675</td> <td>    1.419</td>\n",
       "</tr>\n",
       "<tr>\n",
       "  <th>Xs</th>          <td>    0.2053</td> <td>    0.484</td> <td>    0.424</td> <td> 0.672</td> <td>   -0.746</td> <td>    1.157</td>\n",
       "</tr>\n",
       "<tr>\n",
       "  <th>Ys</th>          <td>   -0.4184</td> <td>    0.764</td> <td>   -0.548</td> <td> 0.584</td> <td>   -1.920</td> <td>    1.083</td>\n",
       "</tr>\n",
       "<tr>\n",
       "  <th>dist_fr_cen</th> <td>    5.0037</td> <td>    1.271</td> <td>    3.936</td> <td> 0.000</td> <td>    2.505</td> <td>    7.503</td>\n",
       "</tr>\n",
       "</table>\n",
       "<table class=\"simpletable\">\n",
       "<tr>\n",
       "  <th>Omnibus:</th>       <td>241.076</td> <th>  Durbin-Watson:     </th> <td>   2.153</td>\n",
       "</tr>\n",
       "<tr>\n",
       "  <th>Prob(Omnibus):</th> <td> 0.000</td>  <th>  Jarque-Bera (JB):  </th> <td>3700.329</td>\n",
       "</tr>\n",
       "<tr>\n",
       "  <th>Skew:</th>          <td> 2.148</td>  <th>  Prob(JB):          </th> <td>    0.00</td>\n",
       "</tr>\n",
       "<tr>\n",
       "  <th>Kurtosis:</th>      <td>17.002</td>  <th>  Cond. No.          </th> <td>8.32e+03</td>\n",
       "</tr>\n",
       "</table><br/><br/>Warnings:<br/>[1] Standard Errors assume that the covariance matrix of the errors is correctly specified.<br/>[2] The condition number is large, 8.32e+03. This might indicate that there are<br/>strong multicollinearity or other numerical problems."
      ],
      "text/plain": [
       "<class 'statsmodels.iolib.summary.Summary'>\n",
       "\"\"\"\n",
       "                            OLS Regression Results                            \n",
       "==============================================================================\n",
       "Dep. Variable:                  price   R-squared:                       0.587\n",
       "Model:                            OLS   Adj. R-squared:                  0.581\n",
       "Method:                 Least Squares   F-statistic:                     96.37\n",
       "Date:                Mon, 11 Jan 2021   Prob (F-statistic):           5.40e-75\n",
       "Time:                        12:25:17   Log-Likelihood:                -1484.7\n",
       "No. Observations:                 414   AIC:                             2983.\n",
       "Df Residuals:                     407   BIC:                             3012.\n",
       "Df Model:                           6                                         \n",
       "Covariance Type:            nonrobust                                         \n",
       "===============================================================================\n",
       "                  coef    std err          t      P>|t|      [0.025      0.975]\n",
       "-------------------------------------------------------------------------------\n",
       "const          37.8992      1.889     20.063      0.000      34.186      41.613\n",
       "house_age      -0.2598      0.038     -6.767      0.000      -0.335      -0.184\n",
       "dist_MRT       -0.0093      0.001     -6.353      0.000      -0.012      -0.006\n",
       "num_stores      1.0474      0.189      5.535      0.000       0.675       1.419\n",
       "Xs              0.2053      0.484      0.424      0.672      -0.746       1.157\n",
       "Ys             -0.4184      0.764     -0.548      0.584      -1.920       1.083\n",
       "dist_fr_cen     5.0037      1.271      3.936      0.000       2.505       7.503\n",
       "==============================================================================\n",
       "Omnibus:                      241.076   Durbin-Watson:                   2.153\n",
       "Prob(Omnibus):                  0.000   Jarque-Bera (JB):             3700.329\n",
       "Skew:                           2.148   Prob(JB):                         0.00\n",
       "Kurtosis:                      17.002   Cond. No.                     8.32e+03\n",
       "==============================================================================\n",
       "\n",
       "Warnings:\n",
       "[1] Standard Errors assume that the covariance matrix of the errors is correctly specified.\n",
       "[2] The condition number is large, 8.32e+03. This might indicate that there are\n",
       "strong multicollinearity or other numerical problems.\n",
       "\"\"\""
      ]
     },
     "execution_count": 6,
     "metadata": {},
     "output_type": "execute_result"
    }
   ],
   "source": [
    "s_model = sm.OLS(y,X)\n",
    "s_results =  s_model.fit()\n",
    "s_results.summary()"
   ]
  },
  {
   "cell_type": "code",
   "execution_count": 7,
   "metadata": {},
   "outputs": [],
   "source": [
    "X_new = data[['house_age','dist_MRT','num_stores','Xs','Ys','dist_fr_cen']]"
   ]
  },
  {
   "cell_type": "code",
   "execution_count": 8,
   "metadata": {},
   "outputs": [
    {
     "data": {
      "text/plain": [
       "0        84.87882\n",
       "1       306.59470\n",
       "2       561.98450\n",
       "3       561.98450\n",
       "4       390.56840\n",
       "          ...    \n",
       "409    4082.01500\n",
       "410      90.45606\n",
       "411     390.96960\n",
       "412     104.81010\n",
       "413      90.45606\n",
       "Name: dist_MRT, Length: 414, dtype: float64"
      ]
     },
     "execution_count": 8,
     "metadata": {},
     "output_type": "execute_result"
    }
   ],
   "source": [
    "X_new.dist_MRT"
   ]
  },
  {
   "cell_type": "code",
   "execution_count": 9,
   "metadata": {},
   "outputs": [
    {
     "name": "stderr",
     "output_type": "stream",
     "text": [
      "C:\\Users\\hp\\Anaconda3\\lib\\site-packages\\ipykernel_launcher.py:1: SettingWithCopyWarning: \n",
      "A value is trying to be set on a copy of a slice from a DataFrame.\n",
      "Try using .loc[row_indexer,col_indexer] = value instead\n",
      "\n",
      "See the caveats in the documentation: https://pandas.pydata.org/pandas-docs/stable/user_guide/indexing.html#returning-a-view-versus-a-copy\n",
      "  \"\"\"Entry point for launching an IPython kernel.\n"
     ]
    }
   ],
   "source": [
    "X_new['dist_MRT']=np.log(X_new.dist_MRT)"
   ]
  },
  {
   "cell_type": "code",
   "execution_count": 10,
   "metadata": {},
   "outputs": [
    {
     "data": {
      "text/plain": [
       "0      4.441225\n",
       "1      5.725527\n",
       "2      6.331474\n",
       "3      6.331474\n",
       "4      5.967603\n",
       "         ...   \n",
       "409    8.314346\n",
       "410    4.504864\n",
       "411    5.968630\n",
       "412    4.652150\n",
       "413    4.504864\n",
       "Name: dist_MRT, Length: 414, dtype: float64"
      ]
     },
     "execution_count": 10,
     "metadata": {},
     "output_type": "execute_result"
    }
   ],
   "source": [
    "X_new.dist_MRT"
   ]
  },
  {
   "cell_type": "code",
   "execution_count": 11,
   "metadata": {},
   "outputs": [],
   "source": [
    "y = data.price\n",
    "x = sm.add_constant(X_new)"
   ]
  },
  {
   "cell_type": "code",
   "execution_count": 12,
   "metadata": {},
   "outputs": [
    {
     "data": {
      "text/html": [
       "<table class=\"simpletable\">\n",
       "<caption>OLS Regression Results</caption>\n",
       "<tr>\n",
       "  <th>Dep. Variable:</th>          <td>price</td>      <th>  R-squared:         </th> <td>   0.640</td>\n",
       "</tr>\n",
       "<tr>\n",
       "  <th>Model:</th>                   <td>OLS</td>       <th>  Adj. R-squared:    </th> <td>   0.635</td>\n",
       "</tr>\n",
       "<tr>\n",
       "  <th>Method:</th>             <td>Least Squares</td>  <th>  F-statistic:       </th> <td>   120.5</td>\n",
       "</tr>\n",
       "<tr>\n",
       "  <th>Date:</th>             <td>Mon, 11 Jan 2021</td> <th>  Prob (F-statistic):</th> <td>4.88e-87</td>\n",
       "</tr>\n",
       "<tr>\n",
       "  <th>Time:</th>                 <td>12:25:26</td>     <th>  Log-Likelihood:    </th> <td> -1456.3</td>\n",
       "</tr>\n",
       "<tr>\n",
       "  <th>No. Observations:</th>      <td>   414</td>      <th>  AIC:               </th> <td>   2927.</td>\n",
       "</tr>\n",
       "<tr>\n",
       "  <th>Df Residuals:</th>          <td>   407</td>      <th>  BIC:               </th> <td>   2955.</td>\n",
       "</tr>\n",
       "<tr>\n",
       "  <th>Df Model:</th>              <td>     6</td>      <th>                     </th>     <td> </td>   \n",
       "</tr>\n",
       "<tr>\n",
       "  <th>Covariance Type:</th>      <td>nonrobust</td>    <th>                     </th>     <td> </td>   \n",
       "</tr>\n",
       "</table>\n",
       "<table class=\"simpletable\">\n",
       "<tr>\n",
       "       <td></td>          <th>coef</th>     <th>std err</th>      <th>t</th>      <th>P>|t|</th>  <th>[0.025</th>    <th>0.975]</th>  \n",
       "</tr>\n",
       "<tr>\n",
       "  <th>const</th>       <td>   82.7675</td> <td>    4.359</td> <td>   18.989</td> <td> 0.000</td> <td>   74.199</td> <td>   91.336</td>\n",
       "</tr>\n",
       "<tr>\n",
       "  <th>house_age</th>   <td>   -0.2257</td> <td>    0.036</td> <td>   -6.252</td> <td> 0.000</td> <td>   -0.297</td> <td>   -0.155</td>\n",
       "</tr>\n",
       "<tr>\n",
       "  <th>dist_MRT</th>    <td>   -7.1790</td> <td>    0.697</td> <td>  -10.301</td> <td> 0.000</td> <td>   -8.549</td> <td>   -5.809</td>\n",
       "</tr>\n",
       "<tr>\n",
       "  <th>num_stores</th>  <td>    0.4049</td> <td>    0.195</td> <td>    2.079</td> <td> 0.038</td> <td>    0.022</td> <td>    0.788</td>\n",
       "</tr>\n",
       "<tr>\n",
       "  <th>Xs</th>          <td>    0.8179</td> <td>    0.443</td> <td>    1.847</td> <td> 0.065</td> <td>   -0.053</td> <td>    1.688</td>\n",
       "</tr>\n",
       "<tr>\n",
       "  <th>Ys</th>          <td>    2.1278</td> <td>    0.406</td> <td>    5.242</td> <td> 0.000</td> <td>    1.330</td> <td>    2.926</td>\n",
       "</tr>\n",
       "<tr>\n",
       "  <th>dist_fr_cen</th> <td>    1.6451</td> <td>    0.680</td> <td>    2.420</td> <td> 0.016</td> <td>    0.309</td> <td>    2.981</td>\n",
       "</tr>\n",
       "</table>\n",
       "<table class=\"simpletable\">\n",
       "<tr>\n",
       "  <th>Omnibus:</th>       <td>266.799</td> <th>  Durbin-Watson:     </th> <td>   2.133</td>\n",
       "</tr>\n",
       "<tr>\n",
       "  <th>Prob(Omnibus):</th> <td> 0.000</td>  <th>  Jarque-Bera (JB):  </th> <td>5353.281</td>\n",
       "</tr>\n",
       "<tr>\n",
       "  <th>Skew:</th>          <td> 2.375</td>  <th>  Prob(JB):          </th> <td>    0.00</td>\n",
       "</tr>\n",
       "<tr>\n",
       "  <th>Kurtosis:</th>      <td>19.964</td>  <th>  Cond. No.          </th> <td>    242.</td>\n",
       "</tr>\n",
       "</table><br/><br/>Warnings:<br/>[1] Standard Errors assume that the covariance matrix of the errors is correctly specified."
      ],
      "text/plain": [
       "<class 'statsmodels.iolib.summary.Summary'>\n",
       "\"\"\"\n",
       "                            OLS Regression Results                            \n",
       "==============================================================================\n",
       "Dep. Variable:                  price   R-squared:                       0.640\n",
       "Model:                            OLS   Adj. R-squared:                  0.635\n",
       "Method:                 Least Squares   F-statistic:                     120.5\n",
       "Date:                Mon, 11 Jan 2021   Prob (F-statistic):           4.88e-87\n",
       "Time:                        12:25:26   Log-Likelihood:                -1456.3\n",
       "No. Observations:                 414   AIC:                             2927.\n",
       "Df Residuals:                     407   BIC:                             2955.\n",
       "Df Model:                           6                                         \n",
       "Covariance Type:            nonrobust                                         \n",
       "===============================================================================\n",
       "                  coef    std err          t      P>|t|      [0.025      0.975]\n",
       "-------------------------------------------------------------------------------\n",
       "const          82.7675      4.359     18.989      0.000      74.199      91.336\n",
       "house_age      -0.2257      0.036     -6.252      0.000      -0.297      -0.155\n",
       "dist_MRT       -7.1790      0.697    -10.301      0.000      -8.549      -5.809\n",
       "num_stores      0.4049      0.195      2.079      0.038       0.022       0.788\n",
       "Xs              0.8179      0.443      1.847      0.065      -0.053       1.688\n",
       "Ys              2.1278      0.406      5.242      0.000       1.330       2.926\n",
       "dist_fr_cen     1.6451      0.680      2.420      0.016       0.309       2.981\n",
       "==============================================================================\n",
       "Omnibus:                      266.799   Durbin-Watson:                   2.133\n",
       "Prob(Omnibus):                  0.000   Jarque-Bera (JB):             5353.281\n",
       "Skew:                           2.375   Prob(JB):                         0.00\n",
       "Kurtosis:                      19.964   Cond. No.                         242.\n",
       "==============================================================================\n",
       "\n",
       "Warnings:\n",
       "[1] Standard Errors assume that the covariance matrix of the errors is correctly specified.\n",
       "\"\"\""
      ]
     },
     "execution_count": 12,
     "metadata": {},
     "output_type": "execute_result"
    }
   ],
   "source": [
    "s_model = sm.OLS(y,x)\n",
    "s_results =  s_model.fit()\n",
    "s_results.summary()"
   ]
  },
  {
   "cell_type": "markdown",
   "metadata": {},
   "source": [
    "## Treating multicolinearity"
   ]
  },
  {
   "cell_type": "markdown",
   "metadata": {},
   "source": [
    "#### Variance inflation factor(VIF)  \n",
    "y = m1x1 + m2x2 +m3x3 ..........  \n",
    "x1 = m2x2 +m3x3 ------> Rsq. if they show linear relationship the rsq will be very high. \n",
    "x2 = m1x1 + m3x3  \n",
    "x3 = m2x2 + m1x1  \n",
    "\n",
    "vif = 1/(1-Rsq) ----formula for vif  \n",
    "so high vif indicated higher multicollinearity "
   ]
  },
  {
   "cell_type": "code",
   "execution_count": 13,
   "metadata": {},
   "outputs": [],
   "source": [
    "#To check functionality of POP\n",
    "# a = ['x1','x2','x3']\n",
    "# b = a.pop(0)\n",
    "#print(a,b)"
   ]
  },
  {
   "cell_type": "code",
   "execution_count": 14,
   "metadata": {},
   "outputs": [
    {
     "name": "stdout",
     "output_type": "stream",
     "text": [
      "\n",
      " Variance Inflation Factor\n",
      "house_age -----> 3.535\n",
      "dist_MRT -----> 18.774\n",
      "num_stores -----> 3.359\n",
      "Xs -----> 2.721\n",
      "Ys -----> 1.877\n",
      "dist_fr_cen -----> 15.072\n"
     ]
    }
   ],
   "source": [
    "# checking VIF values\n",
    "print('\\n Variance Inflation Factor')\n",
    "cnames = X_new.columns\n",
    "\n",
    "for i in np.arange(0,len(cnames)):\n",
    "    xvars = list(cnames) #collection of the entire feature set\n",
    "    yvar = xvars.pop(i) #selecting on feature\n",
    "    mod = sm.OLS(X_new[yvar],X_new[xvars])\n",
    "    res = mod.fit()\n",
    "    vif = 1/(1 - res.rsquared)\n",
    "    print(yvar, '----->', round(vif,3))"
   ]
  },
  {
   "cell_type": "code",
   "execution_count": 15,
   "metadata": {},
   "outputs": [],
   "source": [
    "# discard dist_MRT\n",
    "x2 = X_new[['house_age','num_stores','Xs','Ys','dist_fr_cen']]"
   ]
  },
  {
   "cell_type": "code",
   "execution_count": 16,
   "metadata": {},
   "outputs": [
    {
     "data": {
      "text/html": [
       "<table class=\"simpletable\">\n",
       "<caption>OLS Regression Results</caption>\n",
       "<tr>\n",
       "  <th>Dep. Variable:</th>          <td>price</td>      <th>  R-squared (uncentered):</th>      <td>   0.888</td> \n",
       "</tr>\n",
       "<tr>\n",
       "  <th>Model:</th>                   <td>OLS</td>       <th>  Adj. R-squared (uncentered):</th> <td>   0.887</td> \n",
       "</tr>\n",
       "<tr>\n",
       "  <th>Method:</th>             <td>Least Squares</td>  <th>  F-statistic:       </th>          <td>   649.5</td> \n",
       "</tr>\n",
       "<tr>\n",
       "  <th>Date:</th>             <td>Mon, 11 Jan 2021</td> <th>  Prob (F-statistic):</th>          <td>5.24e-192</td>\n",
       "</tr>\n",
       "<tr>\n",
       "  <th>Time:</th>                 <td>12:25:32</td>     <th>  Log-Likelihood:    </th>          <td> -1664.7</td> \n",
       "</tr>\n",
       "<tr>\n",
       "  <th>No. Observations:</th>      <td>   414</td>      <th>  AIC:               </th>          <td>   3339.</td> \n",
       "</tr>\n",
       "<tr>\n",
       "  <th>Df Residuals:</th>          <td>   409</td>      <th>  BIC:               </th>          <td>   3359.</td> \n",
       "</tr>\n",
       "<tr>\n",
       "  <th>Df Model:</th>              <td>     5</td>      <th>                     </th>              <td> </td>    \n",
       "</tr>\n",
       "<tr>\n",
       "  <th>Covariance Type:</th>      <td>nonrobust</td>    <th>                     </th>              <td> </td>    \n",
       "</tr>\n",
       "</table>\n",
       "<table class=\"simpletable\">\n",
       "<tr>\n",
       "       <td></td>          <th>coef</th>     <th>std err</th>      <th>t</th>      <th>P>|t|</th>  <th>[0.025</th>    <th>0.975]</th>  \n",
       "</tr>\n",
       "<tr>\n",
       "  <th>house_age</th>   <td>    0.0257</td> <td>    0.055</td> <td>    0.464</td> <td> 0.643</td> <td>   -0.083</td> <td>    0.134</td>\n",
       "</tr>\n",
       "<tr>\n",
       "  <th>num_stores</th>  <td>    3.7511</td> <td>    0.228</td> <td>   16.424</td> <td> 0.000</td> <td>    3.302</td> <td>    4.200</td>\n",
       "</tr>\n",
       "<tr>\n",
       "  <th>Xs</th>          <td>    6.5227</td> <td>    0.622</td> <td>   10.493</td> <td> 0.000</td> <td>    5.301</td> <td>    7.745</td>\n",
       "</tr>\n",
       "<tr>\n",
       "  <th>Ys</th>          <td>   -0.7404</td> <td>    0.543</td> <td>   -1.363</td> <td> 0.174</td> <td>   -1.809</td> <td>    0.328</td>\n",
       "</tr>\n",
       "<tr>\n",
       "  <th>dist_fr_cen</th> <td>    9.4693</td> <td>    0.552</td> <td>   17.142</td> <td> 0.000</td> <td>    8.383</td> <td>   10.555</td>\n",
       "</tr>\n",
       "</table>\n",
       "<table class=\"simpletable\">\n",
       "<tr>\n",
       "  <th>Omnibus:</th>       <td>125.963</td> <th>  Durbin-Watson:     </th> <td>   2.011</td> \n",
       "</tr>\n",
       "<tr>\n",
       "  <th>Prob(Omnibus):</th> <td> 0.000</td>  <th>  Jarque-Bera (JB):  </th> <td> 741.054</td> \n",
       "</tr>\n",
       "<tr>\n",
       "  <th>Skew:</th>          <td> 1.161</td>  <th>  Prob(JB):          </th> <td>1.21e-161</td>\n",
       "</tr>\n",
       "<tr>\n",
       "  <th>Kurtosis:</th>      <td> 9.129</td>  <th>  Cond. No.          </th> <td>    24.8</td> \n",
       "</tr>\n",
       "</table><br/><br/>Warnings:<br/>[1] Standard Errors assume that the covariance matrix of the errors is correctly specified."
      ],
      "text/plain": [
       "<class 'statsmodels.iolib.summary.Summary'>\n",
       "\"\"\"\n",
       "                                 OLS Regression Results                                \n",
       "=======================================================================================\n",
       "Dep. Variable:                  price   R-squared (uncentered):                   0.888\n",
       "Model:                            OLS   Adj. R-squared (uncentered):              0.887\n",
       "Method:                 Least Squares   F-statistic:                              649.5\n",
       "Date:                Mon, 11 Jan 2021   Prob (F-statistic):                   5.24e-192\n",
       "Time:                        12:25:32   Log-Likelihood:                         -1664.7\n",
       "No. Observations:                 414   AIC:                                      3339.\n",
       "Df Residuals:                     409   BIC:                                      3359.\n",
       "Df Model:                           5                                                  \n",
       "Covariance Type:            nonrobust                                                  \n",
       "===============================================================================\n",
       "                  coef    std err          t      P>|t|      [0.025      0.975]\n",
       "-------------------------------------------------------------------------------\n",
       "house_age       0.0257      0.055      0.464      0.643      -0.083       0.134\n",
       "num_stores      3.7511      0.228     16.424      0.000       3.302       4.200\n",
       "Xs              6.5227      0.622     10.493      0.000       5.301       7.745\n",
       "Ys             -0.7404      0.543     -1.363      0.174      -1.809       0.328\n",
       "dist_fr_cen     9.4693      0.552     17.142      0.000       8.383      10.555\n",
       "==============================================================================\n",
       "Omnibus:                      125.963   Durbin-Watson:                   2.011\n",
       "Prob(Omnibus):                  0.000   Jarque-Bera (JB):              741.054\n",
       "Skew:                           1.161   Prob(JB):                    1.21e-161\n",
       "Kurtosis:                       9.129   Cond. No.                         24.8\n",
       "==============================================================================\n",
       "\n",
       "Warnings:\n",
       "[1] Standard Errors assume that the covariance matrix of the errors is correctly specified.\n",
       "\"\"\""
      ]
     },
     "execution_count": 16,
     "metadata": {},
     "output_type": "execute_result"
    }
   ],
   "source": [
    "y = data.price\n",
    "X = sm.add_constant(x2)\n",
    "\n",
    "s_model = sm.OLS(y,x2)\n",
    "s_results =  s_model.fit()\n",
    "s_results.summary()"
   ]
  },
  {
   "cell_type": "code",
   "execution_count": 17,
   "metadata": {},
   "outputs": [],
   "source": [
    "# this time discard dist_fr_cen\n",
    "x3 = X_new[['house_age','dist_MRT','num_stores','Xs','Ys']]"
   ]
  },
  {
   "cell_type": "code",
   "execution_count": 18,
   "metadata": {},
   "outputs": [
    {
     "data": {
      "text/html": [
       "<table class=\"simpletable\">\n",
       "<caption>OLS Regression Results</caption>\n",
       "<tr>\n",
       "  <th>Dep. Variable:</th>          <td>price</td>      <th>  R-squared (uncentered):</th>      <td>   0.923</td> \n",
       "</tr>\n",
       "<tr>\n",
       "  <th>Model:</th>                   <td>OLS</td>       <th>  Adj. R-squared (uncentered):</th> <td>   0.922</td> \n",
       "</tr>\n",
       "<tr>\n",
       "  <th>Method:</th>             <td>Least Squares</td>  <th>  F-statistic:       </th>          <td>   974.8</td> \n",
       "</tr>\n",
       "<tr>\n",
       "  <th>Date:</th>             <td>Mon, 11 Jan 2021</td> <th>  Prob (F-statistic):</th>          <td>1.16e-224</td>\n",
       "</tr>\n",
       "<tr>\n",
       "  <th>Time:</th>                 <td>12:25:33</td>     <th>  Log-Likelihood:    </th>          <td> -1588.5</td> \n",
       "</tr>\n",
       "<tr>\n",
       "  <th>No. Observations:</th>      <td>   414</td>      <th>  AIC:               </th>          <td>   3187.</td> \n",
       "</tr>\n",
       "<tr>\n",
       "  <th>Df Residuals:</th>          <td>   409</td>      <th>  BIC:               </th>          <td>   3207.</td> \n",
       "</tr>\n",
       "<tr>\n",
       "  <th>Df Model:</th>              <td>     5</td>      <th>                     </th>              <td> </td>    \n",
       "</tr>\n",
       "<tr>\n",
       "  <th>Covariance Type:</th>      <td>nonrobust</td>    <th>                     </th>              <td> </td>    \n",
       "</tr>\n",
       "</table>\n",
       "<table class=\"simpletable\">\n",
       "<tr>\n",
       "       <td></td>         <th>coef</th>     <th>std err</th>      <th>t</th>      <th>P>|t|</th>  <th>[0.025</th>    <th>0.975]</th>  \n",
       "</tr>\n",
       "<tr>\n",
       "  <th>house_age</th>  <td>   -0.2185</td> <td>    0.049</td> <td>   -4.419</td> <td> 0.000</td> <td>   -0.316</td> <td>   -0.121</td>\n",
       "</tr>\n",
       "<tr>\n",
       "  <th>dist_MRT</th>   <td>    4.6061</td> <td>    0.187</td> <td>   24.627</td> <td> 0.000</td> <td>    4.238</td> <td>    4.974</td>\n",
       "</tr>\n",
       "<tr>\n",
       "  <th>num_stores</th> <td>    2.8534</td> <td>    0.201</td> <td>   14.191</td> <td> 0.000</td> <td>    2.458</td> <td>    3.249</td>\n",
       "</tr>\n",
       "<tr>\n",
       "  <th>Xs</th>         <td>    3.0661</td> <td>    0.431</td> <td>    7.108</td> <td> 0.000</td> <td>    2.218</td> <td>    3.914</td>\n",
       "</tr>\n",
       "<tr>\n",
       "  <th>Ys</th>         <td>    3.1041</td> <td>    0.469</td> <td>    6.613</td> <td> 0.000</td> <td>    2.181</td> <td>    4.027</td>\n",
       "</tr>\n",
       "</table>\n",
       "<table class=\"simpletable\">\n",
       "<tr>\n",
       "  <th>Omnibus:</th>       <td>185.704</td> <th>  Durbin-Watson:     </th> <td>   2.148</td>\n",
       "</tr>\n",
       "<tr>\n",
       "  <th>Prob(Omnibus):</th> <td> 0.000</td>  <th>  Jarque-Bera (JB):  </th> <td>1758.797</td>\n",
       "</tr>\n",
       "<tr>\n",
       "  <th>Skew:</th>          <td> 1.661</td>  <th>  Prob(JB):          </th> <td>    0.00</td>\n",
       "</tr>\n",
       "<tr>\n",
       "  <th>Kurtosis:</th>      <td>12.536</td>  <th>  Cond. No.          </th> <td>    20.0</td>\n",
       "</tr>\n",
       "</table><br/><br/>Warnings:<br/>[1] Standard Errors assume that the covariance matrix of the errors is correctly specified."
      ],
      "text/plain": [
       "<class 'statsmodels.iolib.summary.Summary'>\n",
       "\"\"\"\n",
       "                                 OLS Regression Results                                \n",
       "=======================================================================================\n",
       "Dep. Variable:                  price   R-squared (uncentered):                   0.923\n",
       "Model:                            OLS   Adj. R-squared (uncentered):              0.922\n",
       "Method:                 Least Squares   F-statistic:                              974.8\n",
       "Date:                Mon, 11 Jan 2021   Prob (F-statistic):                   1.16e-224\n",
       "Time:                        12:25:33   Log-Likelihood:                         -1588.5\n",
       "No. Observations:                 414   AIC:                                      3187.\n",
       "Df Residuals:                     409   BIC:                                      3207.\n",
       "Df Model:                           5                                                  \n",
       "Covariance Type:            nonrobust                                                  \n",
       "==============================================================================\n",
       "                 coef    std err          t      P>|t|      [0.025      0.975]\n",
       "------------------------------------------------------------------------------\n",
       "house_age     -0.2185      0.049     -4.419      0.000      -0.316      -0.121\n",
       "dist_MRT       4.6061      0.187     24.627      0.000       4.238       4.974\n",
       "num_stores     2.8534      0.201     14.191      0.000       2.458       3.249\n",
       "Xs             3.0661      0.431      7.108      0.000       2.218       3.914\n",
       "Ys             3.1041      0.469      6.613      0.000       2.181       4.027\n",
       "==============================================================================\n",
       "Omnibus:                      185.704   Durbin-Watson:                   2.148\n",
       "Prob(Omnibus):                  0.000   Jarque-Bera (JB):             1758.797\n",
       "Skew:                           1.661   Prob(JB):                         0.00\n",
       "Kurtosis:                      12.536   Cond. No.                         20.0\n",
       "==============================================================================\n",
       "\n",
       "Warnings:\n",
       "[1] Standard Errors assume that the covariance matrix of the errors is correctly specified.\n",
       "\"\"\""
      ]
     },
     "execution_count": 18,
     "metadata": {},
     "output_type": "execute_result"
    }
   ],
   "source": [
    "y = data.price\n",
    "X = sm.add_constant(x3)\n",
    "\n",
    "s_model = sm.OLS(y,x3)\n",
    "s_results =  s_model.fit()\n",
    "s_results.summary()"
   ]
  },
  {
   "cell_type": "markdown",
   "metadata": {},
   "source": [
    "#### Eleminating variable dist_fr_cen from data set removes multicollinearity between dist_fr_cen and dist_MRT variable.\n",
    "Hence performance of model is enhanced. Value of R square and Adjusted R-square is also increased.\n",
    "And model with x3 dataset is the final model"
   ]
  },
  {
   "cell_type": "code",
   "execution_count": null,
   "metadata": {},
   "outputs": [],
   "source": []
  }
 ],
 "metadata": {
  "kernelspec": {
   "display_name": "Python 3",
   "language": "python",
   "name": "python3"
  },
  "language_info": {
   "codemirror_mode": {
    "name": "ipython",
    "version": 3
   },
   "file_extension": ".py",
   "mimetype": "text/x-python",
   "name": "python",
   "nbconvert_exporter": "python",
   "pygments_lexer": "ipython3",
   "version": "3.7.3"
  }
 },
 "nbformat": 4,
 "nbformat_minor": 2
}
